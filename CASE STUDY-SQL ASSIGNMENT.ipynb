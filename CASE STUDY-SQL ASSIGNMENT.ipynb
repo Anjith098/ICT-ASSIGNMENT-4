{
 "cells": [
  {
   "cell_type": "markdown",
   "metadata": {
    "id": "WEiBwlhgYtYx"
   },
   "source": [
    "# Case Study on SQL\n"
   ]
  },
  {
   "cell_type": "code",
   "execution_count": 1,
   "metadata": {
    "id": "Q6xrAf0CgwyW"
   },
   "outputs": [],
   "source": [
    "import sqlite3\n",
    "import pandas as pd"
   ]
  },
  {
   "cell_type": "code",
   "execution_count": 2,
   "metadata": {
    "id": "YOO65TNTg7fg"
   },
   "outputs": [],
   "source": [
    "def load_imdb_database(db_path):\n",
    "  try:\n",
    "    conn = sqlite3.connect(db_path)\n",
    "    print(\"IMDB database loaded successfully.\")\n",
    "    return conn\n",
    "  except sqlite3.Error as e:\n",
    "    print(f\"Error loading IMDB database: {e}\")\n",
    "    return None"
   ]
  },
  {
   "cell_type": "code",
   "execution_count": 3,
   "metadata": {
    "colab": {
     "base_uri": "https://localhost:8080/"
    },
    "id": "-0Th69XEghxi",
    "outputId": "d560fd50-0f2f-4462-a15e-46ddcb114534"
   },
   "outputs": [
    {
     "name": "stdout",
     "output_type": "stream",
     "text": [
      "IMDB database loaded successfully.\n",
      "Connection successful\n"
     ]
    }
   ],
   "source": [
    "db_path = \"imdb.db\"\n",
    "conn = load_imdb_database(db_path)\n",
    "\n",
    "if conn:\n",
    "  print(\"Connection successful\")\n",
    "  cursor = conn.cursor()"
   ]
  },
  {
   "cell_type": "markdown",
   "metadata": {
    "id": "OyMdDsyWakEL"
   },
   "source": [
    "## Following is the schema of the IMDB database. It lists all tables and their schemas.\n",
    "\n"
   ]
  },
  {
   "cell_type": "code",
   "execution_count": 4,
   "metadata": {
    "colab": {
     "base_uri": "https://localhost:8080/"
    },
    "id": "QHglU6mobmV3",
    "outputId": "c7f47151-a58d-46aa-e34a-be12da99d498"
   },
   "outputs": [
    {
     "name": "stdout",
     "output_type": "stream",
     "text": [
      "Database Schema:\n",
      "\n",
      "Table: Movie\n",
      "Columns:\n",
      "  - index (INTEGER), NOT NULL: False, Default: None, Primary Key: False\n",
      "  - MID (TEXT), NOT NULL: False, Default: None, Primary Key: False\n",
      "  - title (TEXT), NOT NULL: False, Default: None, Primary Key: False\n",
      "  - year (TEXT), NOT NULL: False, Default: None, Primary Key: False\n",
      "  - rating (REAL), NOT NULL: False, Default: None, Primary Key: False\n",
      "  - num_votes (INTEGER), NOT NULL: False, Default: None, Primary Key: False\n",
      "\n",
      "Table: Genre\n",
      "Columns:\n",
      "  - index (INTEGER), NOT NULL: False, Default: None, Primary Key: False\n",
      "  - Name (TEXT), NOT NULL: False, Default: None, Primary Key: False\n",
      "  - GID (INTEGER), NOT NULL: False, Default: None, Primary Key: False\n",
      "\n",
      "Table: Language\n",
      "Columns:\n",
      "  - index (INTEGER), NOT NULL: False, Default: None, Primary Key: False\n",
      "  - Name (TEXT), NOT NULL: False, Default: None, Primary Key: False\n",
      "  - LAID (INTEGER), NOT NULL: False, Default: None, Primary Key: False\n",
      "\n",
      "Table: Country\n",
      "Columns:\n",
      "  - index (INTEGER), NOT NULL: False, Default: None, Primary Key: False\n",
      "  - Name (TEXT), NOT NULL: False, Default: None, Primary Key: False\n",
      "  - CID (INTEGER), NOT NULL: False, Default: None, Primary Key: False\n",
      "\n",
      "Table: Location\n",
      "Columns:\n",
      "  - index (INTEGER), NOT NULL: False, Default: None, Primary Key: False\n",
      "  - Name (TEXT), NOT NULL: False, Default: None, Primary Key: False\n",
      "  - LID (INTEGER), NOT NULL: False, Default: None, Primary Key: False\n",
      "\n",
      "Table: M_Location\n",
      "Columns:\n",
      "  - index (INTEGER), NOT NULL: False, Default: None, Primary Key: False\n",
      "  - MID (TEXT), NOT NULL: False, Default: None, Primary Key: False\n",
      "  - LID (REAL), NOT NULL: False, Default: None, Primary Key: False\n",
      "  - ID (INTEGER), NOT NULL: False, Default: None, Primary Key: False\n",
      "\n",
      "Table: M_Country\n",
      "Columns:\n",
      "  - index (INTEGER), NOT NULL: False, Default: None, Primary Key: False\n",
      "  - MID (TEXT), NOT NULL: False, Default: None, Primary Key: False\n",
      "  - CID (REAL), NOT NULL: False, Default: None, Primary Key: False\n",
      "  - ID (INTEGER), NOT NULL: False, Default: None, Primary Key: False\n",
      "\n",
      "Table: M_Language\n",
      "Columns:\n",
      "  - index (INTEGER), NOT NULL: False, Default: None, Primary Key: False\n",
      "  - MID (TEXT), NOT NULL: False, Default: None, Primary Key: False\n",
      "  - LAID (INTEGER), NOT NULL: False, Default: None, Primary Key: False\n",
      "  - ID (INTEGER), NOT NULL: False, Default: None, Primary Key: False\n",
      "\n",
      "Table: M_Genre\n",
      "Columns:\n",
      "  - index (INTEGER), NOT NULL: False, Default: None, Primary Key: False\n",
      "  - MID (TEXT), NOT NULL: False, Default: None, Primary Key: False\n",
      "  - GID (INTEGER), NOT NULL: False, Default: None, Primary Key: False\n",
      "  - ID (INTEGER), NOT NULL: False, Default: None, Primary Key: False\n",
      "\n",
      "Table: Person\n",
      "Columns:\n",
      "  - index (INTEGER), NOT NULL: False, Default: None, Primary Key: False\n",
      "  - PID (TEXT), NOT NULL: False, Default: None, Primary Key: False\n",
      "  - Name (TEXT), NOT NULL: False, Default: None, Primary Key: False\n",
      "  - Gender (TEXT), NOT NULL: False, Default: None, Primary Key: False\n",
      "\n",
      "Table: M_Producer\n",
      "Columns:\n",
      "  - index (INTEGER), NOT NULL: False, Default: None, Primary Key: False\n",
      "  - MID (TEXT), NOT NULL: False, Default: None, Primary Key: False\n",
      "  - PID (TEXT), NOT NULL: False, Default: None, Primary Key: False\n",
      "  - ID (INTEGER), NOT NULL: False, Default: None, Primary Key: False\n",
      "\n",
      "Table: M_Director\n",
      "Columns:\n",
      "  - index (INTEGER), NOT NULL: False, Default: None, Primary Key: False\n",
      "  - MID (TEXT), NOT NULL: False, Default: None, Primary Key: False\n",
      "  - PID (TEXT), NOT NULL: False, Default: None, Primary Key: False\n",
      "  - ID (INTEGER), NOT NULL: False, Default: None, Primary Key: False\n",
      "\n",
      "Table: M_Cast\n",
      "Columns:\n",
      "  - index (INTEGER), NOT NULL: False, Default: None, Primary Key: False\n",
      "  - MID (TEXT), NOT NULL: False, Default: None, Primary Key: False\n",
      "  - PID (TEXT), NOT NULL: False, Default: None, Primary Key: False\n",
      "  - ID (INTEGER), NOT NULL: False, Default: None, Primary Key: False\n",
      "\n",
      "Table: students\n",
      "Columns:\n",
      "  - ID (INT), NOT NULL: False, Default: None, Primary Key: False\n",
      "  - Name (VARCHAR(50)), NOT NULL: False, Default: None, Primary Key: False\n"
     ]
    }
   ],
   "source": [
    "cursor.execute(\"SELECT name FROM sqlite_master WHERE type='table';\")\n",
    "tables = cursor.fetchall()\n",
    "\n",
    "print(\"Database Schema:\")\n",
    "for table in tables:\n",
    "    table_name = table[0]\n",
    "    print(f\"\\nTable: {table_name}\")\n",
    "\n",
    "    cursor.execute(f\"PRAGMA table_info({table_name});\")\n",
    "    schema = cursor.fetchall()\n",
    "\n",
    "    print(\"Columns:\")\n",
    "    for column in schema:\n",
    "        cid, name, dtype, notnull, dflt_value, pk = column\n",
    "        print(f\"  - {name} ({dtype}), NOT NULL: {bool(notnull)}, Default: {dflt_value}, Primary Key: {bool(pk)}\")"
   ]
  },
  {
   "cell_type": "markdown",
   "metadata": {
    "id": "At0HJhxwcWMV"
   },
   "source": [
    "# Write SQL queries for the following questions"
   ]
  },
  {
   "cell_type": "markdown",
   "metadata": {
    "id": "cHeY-4I-Y1Go"
   },
   "source": [
    "## 1. Write query to list first 5 rows of Person table\n",
    "\n",
    "\n",
    "\n"
   ]
  },
  {
   "cell_type": "code",
   "execution_count": null,
   "metadata": {
    "id": "yTksEs_JHuK8"
   },
   "outputs": [],
   "source": []
  },
  {
   "cell_type": "code",
   "execution_count": 5,
   "metadata": {
    "colab": {
     "base_uri": "https://localhost:8080/"
    },
    "id": "19rLGemCcoak",
    "outputId": "1dd3ed98-7c73-444d-af96-ec475c553487"
   },
   "outputs": [
    {
     "name": "stdout",
     "output_type": "stream",
     "text": [
      "True\n"
     ]
    }
   ],
   "source": [
    "q1 = \"\"\"select * from person limit 5;\"\"\"\n",
    "def q1_grader(q1):\n",
    "  result = pd.read_sql_query(q1, conn)\n",
    "  return result.shape == (5, 4)\n",
    "print(q1_grader(q1))"
   ]
  },
  {
   "cell_type": "markdown",
   "metadata": {
    "id": "Cmuvp9h7dZWu"
   },
   "source": [
    "## 2. Write query to select title, year and rating from Movie table"
   ]
  },
  {
   "cell_type": "code",
   "execution_count": 6,
   "metadata": {
    "id": "g7MI-hJycPtn"
   },
   "outputs": [],
   "source": [
    "q2 = \"\"\"select title,year,rating  from movie;\"\"\""
   ]
  },
  {
   "cell_type": "code",
   "execution_count": 7,
   "metadata": {
    "colab": {
     "base_uri": "https://localhost:8080/"
    },
    "id": "gyk9b2uvd5O6",
    "outputId": "15d217f4-f3c1-475a-b0ec-ce1c2557d113"
   },
   "outputs": [
    {
     "name": "stdout",
     "output_type": "stream",
     "text": [
      "True\n"
     ]
    }
   ],
   "source": [
    "def q2_grader(q2):\n",
    "  result = pd.read_sql_query(q2, conn)\n",
    "  return result.shape == (3473, 3) and result['title'][0]=='Mowgli'\n",
    "print(q2_grader(q2))"
   ]
  },
  {
   "cell_type": "markdown",
   "metadata": {
    "id": "EvD979LNeaFm"
   },
   "source": [
    "## 3. Write query to get title of first movie in movie table sorted by year in ascending order\n"
   ]
  },
  {
   "cell_type": "code",
   "execution_count": 8,
   "metadata": {
    "id": "noFVuK27eczz"
   },
   "outputs": [],
   "source": [
    "q3 =  \"\"\"select title from movie order by year ASC LIMIT 1;\"\"\""
   ]
  },
  {
   "cell_type": "code",
   "execution_count": 9,
   "metadata": {
    "colab": {
     "base_uri": "https://localhost:8080/"
    },
    "id": "jpGuMnkveeU5",
    "outputId": "c3cdb6ab-945c-4d53-be90-3b353d536dc9"
   },
   "outputs": [
    {
     "name": "stdout",
     "output_type": "stream",
     "text": [
      "0    False\n",
      "Name: title, dtype: bool\n"
     ]
    }
   ],
   "source": [
    "def q3_grader(q3):\n",
    "  result = pd.read_sql_query(q3, conn)\n",
    "  return result['title']=='Alam Arm'\n",
    "print(q3_grader(q3))"
   ]
  },
  {
   "cell_type": "markdown",
   "metadata": {
    "id": "ZQVPvM8qgl3k"
   },
   "source": [
    "4. Write query to get the very first year in which Devdas movie was released"
   ]
  },
  {
   "cell_type": "code",
   "execution_count": 10,
   "metadata": {
    "id": "DbvKV1XXgmd9"
   },
   "outputs": [],
   "source": [
    "q4 = \"\"\"SELECT MIN(year) as year FROM movie WHERE title = 'Devdas';\"\"\""
   ]
  },
  {
   "cell_type": "code",
   "execution_count": 11,
   "metadata": {
    "colab": {
     "base_uri": "https://localhost:8080/"
    },
    "id": "SJWlc4gCg6Gn",
    "outputId": "5e59c08b-09cf-405e-cd84-76e2c9f606d7"
   },
   "outputs": [
    {
     "name": "stdout",
     "output_type": "stream",
     "text": [
      "0    True\n",
      "Name: year, dtype: bool\n"
     ]
    }
   ],
   "source": [
    "def q4_grader(q4):\n",
    "  result = pd.read_sql_query(q4, conn)\n",
    "  return result['year']=='1936'\n",
    "print(q4_grader(q4))"
   ]
  },
  {
   "cell_type": "markdown",
   "metadata": {
    "id": "sLHeXz_siuSW"
   },
   "source": [
    "## 5. Write query to get the number of movies released in 2018"
   ]
  },
  {
   "cell_type": "code",
   "execution_count": 12,
   "metadata": {
    "id": "fErMDcrFiuzw"
   },
   "outputs": [],
   "source": [
    "q5 = \"\"\"select count (title)from movie where year='2018';\"\"\""
   ]
  },
  {
   "cell_type": "code",
   "execution_count": 13,
   "metadata": {
    "colab": {
     "base_uri": "https://localhost:8080/"
    },
    "id": "mV2gadLKi6ow",
    "outputId": "1980a205-2bbd-492f-ea81-cdca16afcfc2"
   },
   "outputs": [
    {
     "name": "stdout",
     "output_type": "stream",
     "text": [
      "True\n"
     ]
    }
   ],
   "source": [
    "def q5_grader(q5):\n",
    "  result = pd.read_sql_query(q5, conn)\n",
    "  return result.iloc[0, 0] == 93\n",
    "print(q5_grader(q5))"
   ]
  },
  {
   "cell_type": "markdown",
   "metadata": {
    "id": "95Y3MGgsndph"
   },
   "source": [
    "## 6. Write query to get the title of the movie with most number of votes in 2012"
   ]
  },
  {
   "cell_type": "code",
   "execution_count": 14,
   "metadata": {
    "id": "SK-BCCy2j2tz"
   },
   "outputs": [],
   "source": [
    "q6 = \"\"\"select  title from movie where year = 2012 order by num_votes DESC LIMIT 1;\"\"\""
   ]
  },
  {
   "cell_type": "code",
   "execution_count": 15,
   "metadata": {
    "colab": {
     "base_uri": "https://localhost:8080/"
    },
    "id": "1s8NPuftj6kO",
    "outputId": "c11fd94d-a38d-4a22-879f-a8caee834709"
   },
   "outputs": [
    {
     "name": "stdout",
     "output_type": "stream",
     "text": [
      "0    True\n",
      "Name: title, dtype: bool\n"
     ]
    }
   ],
   "source": [
    "def q6_grader(q6):\n",
    "  result = pd.read_sql_query(q6, conn)\n",
    "  return result[\"title\"]==\"The Avengers\"\n",
    "print(q6_grader(q6))"
   ]
  },
  {
   "cell_type": "markdown",
   "metadata": {
    "id": "anmreTN2zRzL"
   },
   "source": [
    "## 7. Write SQL query to find all the unique movie titles released in 2018"
   ]
  },
  {
   "cell_type": "code",
   "execution_count": 16,
   "metadata": {
    "id": "T3gG0QsPzSQz"
   },
   "outputs": [],
   "source": [
    "q7 = \"\"\"select distinct title from movie where year = 2018;\"\"\""
   ]
  },
  {
   "cell_type": "code",
   "execution_count": 17,
   "metadata": {
    "colab": {
     "base_uri": "https://localhost:8080/"
    },
    "id": "ndp9snvBz0U5",
    "outputId": "1a202f78-4ec3-48ac-d81f-427d0d2527ee"
   },
   "outputs": [
    {
     "name": "stdout",
     "output_type": "stream",
     "text": [
      "True\n"
     ]
    }
   ],
   "source": [
    "def q7_grader(q7):\n",
    "  result = pd.read_sql_query(q7, conn)\n",
    "  return result.shape==(93, 1)\n",
    "print(q7_grader(q7))"
   ]
  },
  {
   "cell_type": "markdown",
   "metadata": {
    "id": "TZEjK38M1Q8q"
   },
   "source": [
    "## 8. Write SQL query to get total number of movies released between 2017 (inclusive) and 2018 (inclusive)"
   ]
  },
  {
   "cell_type": "code",
   "execution_count": 18,
   "metadata": {
    "id": "vXz5lPZ80j3-"
   },
   "outputs": [],
   "source": [
    "q8 = \"\"\"select  count (*) from movie where year between 2017 AND 2018;\"\"\""
   ]
  },
  {
   "cell_type": "code",
   "execution_count": 19,
   "metadata": {
    "colab": {
     "base_uri": "https://localhost:8080/"
    },
    "id": "p9wXgEae02ZV",
    "outputId": "97f742e2-4dcf-42d6-b799-39f4bdb4890f"
   },
   "outputs": [
    {
     "name": "stdout",
     "output_type": "stream",
     "text": [
      "True\n"
     ]
    }
   ],
   "source": [
    "def q8_grader(q8):\n",
    "  result = pd.read_sql_query(q8, conn)\n",
    "  return result.iloc[0, 0] == 211\n",
    "print(q8_grader(q8))"
   ]
  },
  {
   "cell_type": "markdown",
   "metadata": {
    "id": "L7WKxoUU3Ai6"
   },
   "source": [
    "## 9. Write SQL query to find the year in which maximum number of movies released"
   ]
  },
  {
   "cell_type": "code",
   "execution_count": 30,
   "metadata": {
    "id": "fktY0SbY1qSA"
   },
   "outputs": [],
   "source": [
    "q9 = \"\"\"SELECT year  \n",
    "FROM movie \n",
    "GROUP BY year  \n",
    "ORDER BY COUNT(*) DESC  \n",
    "LIMIT 1;\"\"\""
   ]
  },
  {
   "cell_type": "code",
   "execution_count": 31,
   "metadata": {
    "colab": {
     "base_uri": "https://localhost:8080/"
    },
    "id": "yiYfQr1R13As",
    "outputId": "85900d61-2666-482a-df77-b2807c45eb58"
   },
   "outputs": [
    {
     "name": "stdout",
     "output_type": "stream",
     "text": [
      "True\n"
     ]
    }
   ],
   "source": [
    "def q9_grader(q9):\n",
    "  result = pd.read_sql_query(q9, conn)\n",
    "  return result[\"year\"][0]==\"2005\"\n",
    "print(q9_grader(q9))"
   ]
  },
  {
   "cell_type": "markdown",
   "metadata": {
    "id": "dP2eLdzq7lBM"
   },
   "source": [
    "## 10. Write SQL query to find the title of the movie with rating>9.5 and number of votes > 90"
   ]
  },
  {
   "cell_type": "code",
   "execution_count": 36,
   "metadata": {
    "id": "DUCNjcQM3VG-"
   },
   "outputs": [],
   "source": [
    "q10 = \"\"\"SELECT title  \n",
    "FROM movie \n",
    "WHERE rating > 9.5 AND num_votes > 90;\"\"\""
   ]
  },
  {
   "cell_type": "code",
   "execution_count": 37,
   "metadata": {
    "colab": {
     "base_uri": "https://localhost:8080/"
    },
    "id": "njqsiZo-3e6o",
    "outputId": "db8d034e-1fdf-42af-cef9-917b22995502"
   },
   "outputs": [
    {
     "name": "stdout",
     "output_type": "stream",
     "text": [
      "True\n"
     ]
    }
   ],
   "source": [
    "def q10_grader(q10):\n",
    "  result = pd.read_sql_query(q10, conn)\n",
    "  return result[\"title\"][0]==\"Man on Mission Fauladi\"\n",
    "print(q10_grader(q10))"
   ]
  },
  {
   "cell_type": "markdown",
   "metadata": {
    "id": "7Ov94gw_949N"
   },
   "source": [
    "## 11. Write SQL query to find the number of movies which has the word 'Dilwale' in their title"
   ]
  },
  {
   "cell_type": "code",
   "execution_count": 40,
   "metadata": {
    "id": "9T5y3B1z8H4v"
   },
   "outputs": [],
   "source": [
    "q11 = \"\"\"SELECT COUNT(*)  \n",
    "FROM movie  \n",
    "WHERE title LIKE '%Dilwale%';\"\"\""
   ]
  },
  {
   "cell_type": "code",
   "execution_count": 41,
   "metadata": {
    "colab": {
     "base_uri": "https://localhost:8080/"
    },
    "id": "gvtXmjaz8lfg",
    "outputId": "77fa6a10-db36-4dd7-e405-57fee7b368de"
   },
   "outputs": [
    {
     "name": "stdout",
     "output_type": "stream",
     "text": [
      "True\n"
     ]
    }
   ],
   "source": [
    "def q11_grader(q11):\n",
    "  result = pd.read_sql_query(q11, conn)\n",
    "  return result.iloc[0, 0] == 4\n",
    "print(q11_grader(q11))"
   ]
  },
  {
   "cell_type": "markdown",
   "metadata": {
    "id": "5PaMaYb6AwgQ"
   },
   "source": [
    "## 12. Write nested SQL query to find the CID of country which produced most number of movies"
   ]
  },
  {
   "cell_type": "code",
   "execution_count": 46,
   "metadata": {
    "id": "Ey1GZDoG-t2n"
   },
   "outputs": [],
   "source": [
    "q12 = \"\"\"SELECT MID \n",
    "FROM (  \n",
    "    SELECT MID, COUNT(*) AS movie_count  \n",
    "    FROM movie  \n",
    "    GROUP BY MID  \n",
    "    ORDER BY movie_count DESC  \n",
    "    LIMIT 1  \n",
    "    ) AS top_country;\"\"\""
   ]
  },
  {
   "cell_type": "code",
   "execution_count": 47,
   "metadata": {
    "colab": {
     "base_uri": "https://localhost:8080/"
    },
    "id": "5gHU4XQO-0E-",
    "outputId": "8d929b47-bdd5-4c1d-98bd-7665060822e8"
   },
   "outputs": [
    {
     "name": "stdout",
     "output_type": "stream",
     "text": [
      "MID    False\n",
      "Name: 0, dtype: bool\n"
     ]
    }
   ],
   "source": [
    "def q12_grader(q12):\n",
    "  result = pd.read_sql_query(q12, conn)\n",
    "  return result.iloc[0]==2.0\n",
    "print(q12_grader(q12))"
   ]
  },
  {
   "cell_type": "markdown",
   "metadata": {
    "id": "F0E3Nw4nD7ux"
   },
   "source": [
    "## 13. Write nested SQL query to the country which produced most number of movies (use both Courty table and M_Country table)"
   ]
  },
  {
   "cell_type": "code",
   "execution_count": 52,
   "metadata": {
    "id": "kJaN-L9aBY4Q"
   },
   "outputs": [],
   "source": [
    "q13 = \"\"\"SELECT name  \n",
    "FROM Country  \n",
    "WHERE CID = (  \n",
    "    SELECT CID  \n",
    "    FROM M_Country  \n",
    "    GROUP BY CID  \n",
    "    ORDER BY COUNT(*) DESC  \n",
    "    LIMIT 1  \n",
    ");\"\"\""
   ]
  },
  {
   "cell_type": "code",
   "execution_count": 53,
   "metadata": {
    "colab": {
     "base_uri": "https://localhost:8080/"
    },
    "id": "L8JOMcpjBqZo",
    "outputId": "e939cfbb-9357-4d81-8b3a-bf09e3d91d09"
   },
   "outputs": [
    {
     "name": "stdout",
     "output_type": "stream",
     "text": [
      "True\n"
     ]
    }
   ],
   "source": [
    "def q13_grader(q13):\n",
    "  result = pd.read_sql_query(q13, conn)\n",
    "  return result.iloc[0, 0] == \"India\"\n",
    "print(q13_grader(q13))"
   ]
  },
  {
   "cell_type": "markdown",
   "metadata": {
    "id": "OHcgp0uCF003"
   },
   "source": [
    "## 14. Write SQL query to get the year and number of movies per year having number of movies per year is greater than 100"
   ]
  },
  {
   "cell_type": "code",
   "execution_count": 54,
   "metadata": {
    "id": "AmIL0LgMENl_"
   },
   "outputs": [],
   "source": [
    "q14 = \"\"\"SELECT Year, COUNT(*) AS movie_count  \n",
    "FROM movie  \n",
    "GROUP BY year  \n",
    "HAVING COUNT(*) > 100  \n",
    "ORDER BY year;\"\"\""
   ]
  },
  {
   "cell_type": "code",
   "execution_count": 55,
   "metadata": {
    "colab": {
     "base_uri": "https://localhost:8080/"
    },
    "id": "RWWaEwJtE6Uj",
    "outputId": "0ce7ac38-5728-42a7-dea2-9a756d205814"
   },
   "outputs": [
    {
     "name": "stdout",
     "output_type": "stream",
     "text": [
      "True\n"
     ]
    }
   ],
   "source": [
    "def q14_grader(q14):\n",
    "  result = pd.read_sql_query(q14, conn)\n",
    "  return result.shape==(13,2)\n",
    "print(q14_grader(q14))"
   ]
  },
  {
   "cell_type": "markdown",
   "metadata": {
    "id": "LcrzqodqG-Ae"
   },
   "source": [
    "## 15. Write SQL query to get the Name and Language ID (LAID) corresponding to Malayalam language"
   ]
  },
  {
   "cell_type": "code",
   "execution_count": 56,
   "metadata": {
    "id": "mZ7EH8emGXJg"
   },
   "outputs": [],
   "source": [
    "q15 = \"\"\"SELECT Name, LAID  \n",
    "FROM Language  \n",
    "WHERE Name = 'Malayalam';\"\"\""
   ]
  },
  {
   "cell_type": "code",
   "execution_count": 57,
   "metadata": {
    "colab": {
     "base_uri": "https://localhost:8080/"
    },
    "id": "rVRZJXwoGcdX",
    "outputId": "3767df17-3922-4dc6-f93a-7f81764748d8"
   },
   "outputs": [
    {
     "name": "stdout",
     "output_type": "stream",
     "text": [
      "        Name  LAID\n",
      "0  Malayalam    19\n",
      "True\n"
     ]
    }
   ],
   "source": [
    "def q15_grader(q15):\n",
    "  result = pd.read_sql_query(q15, conn)\n",
    "  print(result)\n",
    "  return result[[\"Name\", \"LAID\"]].values.tolist() == [['Malayalam', 19]]\n",
    "print(q15_grader(q15))"
   ]
  },
  {
   "cell_type": "markdown",
   "metadata": {
    "id": "DvPnI7MDJVoT"
   },
   "source": [
    "## 16. Write SQL query to do inner join with movie table and M_Language table with MID colums"
   ]
  },
  {
   "cell_type": "code",
   "execution_count": 60,
   "metadata": {
    "id": "ZPO83_w1Hxco"
   },
   "outputs": [],
   "source": [
    "q16 = \"\"\"SELECT movie.*, M_Language.LAID  \n",
    "FROM movie  \n",
    "INNER JOIN M_Language ON movie.MID = M_Language.MID;;\"\"\""
   ]
  },
  {
   "cell_type": "code",
   "execution_count": 61,
   "metadata": {
    "colab": {
     "base_uri": "https://localhost:8080/"
    },
    "id": "S89KrFeQIWuv",
    "outputId": "0d34f226-589e-479a-8fc4-500d4ee43243"
   },
   "outputs": [
    {
     "ename": "DatabaseError",
     "evalue": "Execution failed on sql 'SELECT movie.*, M_Language.LAID  \nFROM movie  \nINNER JOIN M_Language ON movie.MID = M_Language.MID;;': You can only execute one statement at a time.",
     "output_type": "error",
     "traceback": [
      "\u001b[1;31m---------------------------------------------------------------------------\u001b[0m",
      "\u001b[1;31mProgrammingError\u001b[0m                          Traceback (most recent call last)",
      "File \u001b[1;32mc:\\Users\\745an\\OneDrive\\Desktop\\Sample Code\\.venv\\Lib\\site-packages\\pandas\\io\\sql.py:2674\u001b[0m, in \u001b[0;36mSQLiteDatabase.execute\u001b[1;34m(self, sql, params)\u001b[0m\n\u001b[0;32m   2673\u001b[0m \u001b[38;5;28;01mtry\u001b[39;00m:\n\u001b[1;32m-> 2674\u001b[0m     \u001b[43mcur\u001b[49m\u001b[38;5;241;43m.\u001b[39;49m\u001b[43mexecute\u001b[49m\u001b[43m(\u001b[49m\u001b[43msql\u001b[49m\u001b[43m,\u001b[49m\u001b[43m \u001b[49m\u001b[38;5;241;43m*\u001b[39;49m\u001b[43margs\u001b[49m\u001b[43m)\u001b[49m\n\u001b[0;32m   2675\u001b[0m     \u001b[38;5;28;01mreturn\u001b[39;00m cur\n",
      "\u001b[1;31mProgrammingError\u001b[0m: You can only execute one statement at a time.",
      "\nThe above exception was the direct cause of the following exception:\n",
      "\u001b[1;31mDatabaseError\u001b[0m                             Traceback (most recent call last)",
      "Cell \u001b[1;32mIn[61], line 4\u001b[0m\n\u001b[0;32m      2\u001b[0m   result \u001b[38;5;241m=\u001b[39m pd\u001b[38;5;241m.\u001b[39mread_sql_query(q16, conn)\n\u001b[0;32m      3\u001b[0m   \u001b[38;5;28;01mreturn\u001b[39;00m result\n\u001b[1;32m----> 4\u001b[0m \u001b[38;5;28mprint\u001b[39m(\u001b[43mq16_grader\u001b[49m\u001b[43m(\u001b[49m\u001b[43mq16\u001b[49m\u001b[43m)\u001b[49m)\n",
      "Cell \u001b[1;32mIn[61], line 2\u001b[0m, in \u001b[0;36mq16_grader\u001b[1;34m(q16)\u001b[0m\n\u001b[0;32m      1\u001b[0m \u001b[38;5;28;01mdef\u001b[39;00m\u001b[38;5;250m \u001b[39m\u001b[38;5;21mq16_grader\u001b[39m(q16):\n\u001b[1;32m----> 2\u001b[0m   result \u001b[38;5;241m=\u001b[39m \u001b[43mpd\u001b[49m\u001b[38;5;241;43m.\u001b[39;49m\u001b[43mread_sql_query\u001b[49m\u001b[43m(\u001b[49m\u001b[43mq16\u001b[49m\u001b[43m,\u001b[49m\u001b[43m \u001b[49m\u001b[43mconn\u001b[49m\u001b[43m)\u001b[49m\n\u001b[0;32m      3\u001b[0m   \u001b[38;5;28;01mreturn\u001b[39;00m result\n",
      "File \u001b[1;32mc:\\Users\\745an\\OneDrive\\Desktop\\Sample Code\\.venv\\Lib\\site-packages\\pandas\\io\\sql.py:526\u001b[0m, in \u001b[0;36mread_sql_query\u001b[1;34m(sql, con, index_col, coerce_float, params, parse_dates, chunksize, dtype, dtype_backend)\u001b[0m\n\u001b[0;32m    523\u001b[0m \u001b[38;5;28;01massert\u001b[39;00m dtype_backend \u001b[38;5;129;01mis\u001b[39;00m \u001b[38;5;129;01mnot\u001b[39;00m lib\u001b[38;5;241m.\u001b[39mno_default\n\u001b[0;32m    525\u001b[0m \u001b[38;5;28;01mwith\u001b[39;00m pandasSQL_builder(con) \u001b[38;5;28;01mas\u001b[39;00m pandas_sql:\n\u001b[1;32m--> 526\u001b[0m     \u001b[38;5;28;01mreturn\u001b[39;00m \u001b[43mpandas_sql\u001b[49m\u001b[38;5;241;43m.\u001b[39;49m\u001b[43mread_query\u001b[49m\u001b[43m(\u001b[49m\n\u001b[0;32m    527\u001b[0m \u001b[43m        \u001b[49m\u001b[43msql\u001b[49m\u001b[43m,\u001b[49m\n\u001b[0;32m    528\u001b[0m \u001b[43m        \u001b[49m\u001b[43mindex_col\u001b[49m\u001b[38;5;241;43m=\u001b[39;49m\u001b[43mindex_col\u001b[49m\u001b[43m,\u001b[49m\n\u001b[0;32m    529\u001b[0m \u001b[43m        \u001b[49m\u001b[43mparams\u001b[49m\u001b[38;5;241;43m=\u001b[39;49m\u001b[43mparams\u001b[49m\u001b[43m,\u001b[49m\n\u001b[0;32m    530\u001b[0m \u001b[43m        \u001b[49m\u001b[43mcoerce_float\u001b[49m\u001b[38;5;241;43m=\u001b[39;49m\u001b[43mcoerce_float\u001b[49m\u001b[43m,\u001b[49m\n\u001b[0;32m    531\u001b[0m \u001b[43m        \u001b[49m\u001b[43mparse_dates\u001b[49m\u001b[38;5;241;43m=\u001b[39;49m\u001b[43mparse_dates\u001b[49m\u001b[43m,\u001b[49m\n\u001b[0;32m    532\u001b[0m \u001b[43m        \u001b[49m\u001b[43mchunksize\u001b[49m\u001b[38;5;241;43m=\u001b[39;49m\u001b[43mchunksize\u001b[49m\u001b[43m,\u001b[49m\n\u001b[0;32m    533\u001b[0m \u001b[43m        \u001b[49m\u001b[43mdtype\u001b[49m\u001b[38;5;241;43m=\u001b[39;49m\u001b[43mdtype\u001b[49m\u001b[43m,\u001b[49m\n\u001b[0;32m    534\u001b[0m \u001b[43m        \u001b[49m\u001b[43mdtype_backend\u001b[49m\u001b[38;5;241;43m=\u001b[39;49m\u001b[43mdtype_backend\u001b[49m\u001b[43m,\u001b[49m\n\u001b[0;32m    535\u001b[0m \u001b[43m    \u001b[49m\u001b[43m)\u001b[49m\n",
      "File \u001b[1;32mc:\\Users\\745an\\OneDrive\\Desktop\\Sample Code\\.venv\\Lib\\site-packages\\pandas\\io\\sql.py:2738\u001b[0m, in \u001b[0;36mSQLiteDatabase.read_query\u001b[1;34m(self, sql, index_col, coerce_float, parse_dates, params, chunksize, dtype, dtype_backend)\u001b[0m\n\u001b[0;32m   2727\u001b[0m \u001b[38;5;28;01mdef\u001b[39;00m\u001b[38;5;250m \u001b[39m\u001b[38;5;21mread_query\u001b[39m(\n\u001b[0;32m   2728\u001b[0m     \u001b[38;5;28mself\u001b[39m,\n\u001b[0;32m   2729\u001b[0m     sql,\n\u001b[1;32m   (...)\u001b[0m\n\u001b[0;32m   2736\u001b[0m     dtype_backend: DtypeBackend \u001b[38;5;241m|\u001b[39m Literal[\u001b[38;5;124m\"\u001b[39m\u001b[38;5;124mnumpy\u001b[39m\u001b[38;5;124m\"\u001b[39m] \u001b[38;5;241m=\u001b[39m \u001b[38;5;124m\"\u001b[39m\u001b[38;5;124mnumpy\u001b[39m\u001b[38;5;124m\"\u001b[39m,\n\u001b[0;32m   2737\u001b[0m ) \u001b[38;5;241m-\u001b[39m\u001b[38;5;241m>\u001b[39m DataFrame \u001b[38;5;241m|\u001b[39m Iterator[DataFrame]:\n\u001b[1;32m-> 2738\u001b[0m     cursor \u001b[38;5;241m=\u001b[39m \u001b[38;5;28;43mself\u001b[39;49m\u001b[38;5;241;43m.\u001b[39;49m\u001b[43mexecute\u001b[49m\u001b[43m(\u001b[49m\u001b[43msql\u001b[49m\u001b[43m,\u001b[49m\u001b[43m \u001b[49m\u001b[43mparams\u001b[49m\u001b[43m)\u001b[49m\n\u001b[0;32m   2739\u001b[0m     columns \u001b[38;5;241m=\u001b[39m [col_desc[\u001b[38;5;241m0\u001b[39m] \u001b[38;5;28;01mfor\u001b[39;00m col_desc \u001b[38;5;129;01min\u001b[39;00m cursor\u001b[38;5;241m.\u001b[39mdescription]\n\u001b[0;32m   2741\u001b[0m     \u001b[38;5;28;01mif\u001b[39;00m chunksize \u001b[38;5;129;01mis\u001b[39;00m \u001b[38;5;129;01mnot\u001b[39;00m \u001b[38;5;28;01mNone\u001b[39;00m:\n",
      "File \u001b[1;32mc:\\Users\\745an\\OneDrive\\Desktop\\Sample Code\\.venv\\Lib\\site-packages\\pandas\\io\\sql.py:2686\u001b[0m, in \u001b[0;36mSQLiteDatabase.execute\u001b[1;34m(self, sql, params)\u001b[0m\n\u001b[0;32m   2683\u001b[0m     \u001b[38;5;28;01mraise\u001b[39;00m ex \u001b[38;5;28;01mfrom\u001b[39;00m\u001b[38;5;250m \u001b[39m\u001b[38;5;21;01minner_exc\u001b[39;00m\n\u001b[0;32m   2685\u001b[0m ex \u001b[38;5;241m=\u001b[39m DatabaseError(\u001b[38;5;124mf\u001b[39m\u001b[38;5;124m\"\u001b[39m\u001b[38;5;124mExecution failed on sql \u001b[39m\u001b[38;5;124m'\u001b[39m\u001b[38;5;132;01m{\u001b[39;00msql\u001b[38;5;132;01m}\u001b[39;00m\u001b[38;5;124m'\u001b[39m\u001b[38;5;124m: \u001b[39m\u001b[38;5;132;01m{\u001b[39;00mexc\u001b[38;5;132;01m}\u001b[39;00m\u001b[38;5;124m\"\u001b[39m)\n\u001b[1;32m-> 2686\u001b[0m \u001b[38;5;28;01mraise\u001b[39;00m ex \u001b[38;5;28;01mfrom\u001b[39;00m\u001b[38;5;250m \u001b[39m\u001b[38;5;21;01mexc\u001b[39;00m\n",
      "\u001b[1;31mDatabaseError\u001b[0m: Execution failed on sql 'SELECT movie.*, M_Language.LAID  \nFROM movie  \nINNER JOIN M_Language ON movie.MID = M_Language.MID;;': You can only execute one statement at a time."
     ]
    }
   ],
   "source": [
    "def q16_grader(q16):\n",
    "  result = pd.read_sql_query(q16, conn)\n",
    "  return result\n",
    "print(q16_grader(q16))"
   ]
  },
  {
   "cell_type": "markdown",
   "metadata": {
    "id": "vhF0SQu5Lthd"
   },
   "source": [
    "## 17. Write SQL query to list title, year and rating of malayalam movies in the database by doing an inner join with movie table and M_Language table with MID column, also assuming language ID of malayalam movies as 19"
   ]
  },
  {
   "cell_type": "code",
   "execution_count": null,
   "metadata": {
    "id": "yHB7KI-wKw3p"
   },
   "outputs": [],
   "source": [
    "q17 = \"\"\"INSER YOUR QUERY HERE;\"\"\""
   ]
  },
  {
   "cell_type": "code",
   "execution_count": null,
   "metadata": {
    "colab": {
     "base_uri": "https://localhost:8080/"
    },
    "id": "Ji5W5cemLX0a",
    "outputId": "1f8d1258-02e8-4854-afe3-b9583b1e4f2b"
   },
   "outputs": [],
   "source": [
    "def q17_grader(q17):\n",
    "  result = pd.read_sql_query(q17, conn)\n",
    "  return result.shape==(16,3)\n",
    "print(q17_grader(q17))"
   ]
  },
  {
   "cell_type": "code",
   "execution_count": 24,
   "metadata": {
    "id": "GhjTNuPwqO7z"
   },
   "outputs": [],
   "source": [
    "![ -f academic.db ] && rm academic.db\n",
    "\n",
    "conn = sqlite3.connect(\"academic.db\")\n",
    "cursor = conn.cursor()"
   ]
  },
  {
   "cell_type": "markdown",
   "metadata": {
    "id": "aH8Y1PS9OZyj"
   },
   "source": [
    "## 18. Write SQL query to Create a table named students with two columns id (integer type) and name (varchar type)"
   ]
  },
  {
   "cell_type": "code",
   "execution_count": 25,
   "metadata": {
    "id": "TsaafyrxIYFd"
   },
   "outputs": [],
   "source": [
    "q18a = \"\"\"create table students(id INT,Name VARCHAR(100));\"\"\""
   ]
  },
  {
   "cell_type": "code",
   "execution_count": 26,
   "metadata": {
    "colab": {
     "base_uri": "https://localhost:8080/"
    },
    "id": "whuIWdc4OAzm",
    "outputId": "7781e943-7afe-4760-d35c-2f71dba1f615"
   },
   "outputs": [
    {
     "name": "stdout",
     "output_type": "stream",
     "text": [
      "False\n"
     ]
    }
   ],
   "source": [
    "def q18_grader_a(q18):\n",
    "  try:\n",
    "    cursor.execute(q18)\n",
    "    return True\n",
    "  except:\n",
    "    pass\n",
    "\n",
    "def q18_grader_b(q19):\n",
    "  result = pd.read_sql_query(q19, conn)\n",
    "  return result.columns.tolist() == ['id', 'name']\n",
    "\n",
    "q18b = \"\"\"SELECT * FROM students;\"\"\"\n",
    "\n",
    "print(q18_grader_a(q18a) and q18_grader_b(q18b))"
   ]
  },
  {
   "cell_type": "markdown",
   "metadata": {
    "id": "-hRir0DKPa9I"
   },
   "source": [
    "## 19. Write SQL query to insert the values (1, 'Alice') into students table"
   ]
  },
  {
   "cell_type": "code",
   "execution_count": 27,
   "metadata": {
    "id": "4x6gmopqq6s2"
   },
   "outputs": [],
   "source": [
    "q19_a = \"\"\"insert into students(ID,Name)\n",
    "        values (1,'Alice');\"\"\""
   ]
  },
  {
   "cell_type": "code",
   "execution_count": 28,
   "metadata": {
    "colab": {
     "base_uri": "https://localhost:8080/"
    },
    "id": "Bwq8A_58qXS7",
    "outputId": "33c05d95-b372-4643-8be6-c6d7dd0fd3f1"
   },
   "outputs": [
    {
     "name": "stdout",
     "output_type": "stream",
     "text": [
      "True\n"
     ]
    }
   ],
   "source": [
    "def q19_grader_a(q19_a):\n",
    "  try:\n",
    "    cursor.execute(q19_a)\n",
    "  except:\n",
    "    pass\n",
    "  return True\n",
    "\n",
    "def q19_grader_b(q19_b):\n",
    "  result = pd.read_sql_query(q19_b, conn)\n",
    "  return result.values.tolist() == [[1, 'Alice']]\n",
    "\n",
    "q19_b = \"SELECT * FROM students\"\n",
    "print(q19_grader_a(q19_a) and q19_grader_b(q19_b))"
   ]
  },
  {
   "cell_type": "markdown",
   "metadata": {
    "id": "PuQ4VFtwSu6x"
   },
   "source": [
    "## 20. Write SQL Query to add the following more information to students table\n",
    "\n",
    "| ID | Name    |\n",
    "|----|---------|\n",
    "| 2  | Bob     |\n",
    "| 3  | Charlie |"
   ]
  },
  {
   "cell_type": "code",
   "execution_count": 29,
   "metadata": {
    "id": "mGQrZEhKqgMo"
   },
   "outputs": [],
   "source": [
    "q20 = \"\"\"insert into students(ID,Name)\n",
    "          values(2,'Bob'),\n",
    "                (3,'Charlie');\"\"\""
   ]
  },
  {
   "cell_type": "code",
   "execution_count": 30,
   "metadata": {
    "colab": {
     "base_uri": "https://localhost:8080/"
    },
    "id": "FRZxVn3xTAjk",
    "outputId": "c703e93e-c823-4728-aabd-0f720815fefb"
   },
   "outputs": [
    {
     "name": "stdout",
     "output_type": "stream",
     "text": [
      "True\n"
     ]
    }
   ],
   "source": [
    "def q20_grader(q20):\n",
    "  try:\n",
    "    cursor.execute(q20)\n",
    "  except:\n",
    "    pass\n",
    "  return True\n",
    "\n",
    "def q20_grader_b(q20_b):\n",
    "  result = pd.read_sql_query(q20_b, conn)\n",
    "  return result.values.tolist() == [[1, 'Alice'], [2, 'Bob'], [3, 'Charlie']]\n",
    "\n",
    "print(q20_grader(q20) and q20_grader_b(q19_b))"
   ]
  },
  {
   "cell_type": "code",
   "execution_count": null,
   "metadata": {
    "id": "qYNpS7UEhKc4"
   },
   "outputs": [],
   "source": [
    "# conn.close()"
   ]
  },
  {
   "cell_type": "code",
   "execution_count": null,
   "metadata": {
    "id": "53tIpYUusRVC"
   },
   "outputs": [],
   "source": []
  }
 ],
 "metadata": {
  "colab": {
   "provenance": []
  },
  "kernelspec": {
   "display_name": "Python 3 (ipykernel)",
   "language": "python",
   "name": "python3"
  },
  "language_info": {
   "codemirror_mode": {
    "name": "ipython",
    "version": 3
   },
   "file_extension": ".py",
   "mimetype": "text/x-python",
   "name": "python",
   "nbconvert_exporter": "python",
   "pygments_lexer": "ipython3",
   "version": "3.12.0"
  }
 },
 "nbformat": 4,
 "nbformat_minor": 4
}
